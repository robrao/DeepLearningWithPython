{
  "nbformat": 4,
  "nbformat_minor": 0,
  "metadata": {
    "colab": {
      "name": "DLP-imdb_reviews.ipynb",
      "version": "0.3.2",
      "provenance": []
    },
    "kernelspec": {
      "name": "python3",
      "display_name": "Python 3"
    },
    "accelerator": "GPU"
  },
  "cells": [
    {
      "cell_type": "markdown",
      "metadata": {
        "id": "T3dHPR2UFps3",
        "colab_type": "text"
      },
      "source": [
        "Use the IMDB dataset packaged with Keras. It has already been labelled, where each word has been turned into an integer. We need to modify `np.load` to set `allow_pickle=True` otherwise we can't load the data. When loading the imdb data we use `num_words=10000` so that we only get the 10k most frequently used words. Although we lose information to train the neural net it allows our data to remain tractable."
      ]
    },
    {
      "cell_type": "code",
      "metadata": {
        "id": "SWtqNcNcGJmu",
        "colab_type": "code",
        "outputId": "f0f43973-6ef4-42f6-80ef-b977a859571e",
        "colab": {
          "base_uri": "https://localhost:8080/",
          "height": 68
        }
      },
      "source": [
        "import numpy as np\n",
        "from keras.datasets import imdb\n",
        "\n",
        "# Set allow_pickle to True since new version defaults to False\n",
        "old = np.load\n",
        "np.load = lambda *a,**k: old(*a, allow_pickle=True, **k)\n",
        "\n",
        "# Keep only 10k most commonly used words, rest discarded, to keep vectors of tractable size\n",
        "(train_data, train_labels), (test_data, test_labels) = imdb.load_data(num_words=10000)\n",
        "\n",
        "#print ('Training Data: ', len(train_data), 'Testing Data: ', len(test_data))\n",
        "#print ('Training Data Example: ', train_data[3], ' Label: ', test_labels[3])\n",
        "\n",
        "np.load = old\n",
        "del(old)"
      ],
      "execution_count": 2,
      "outputs": [
        {
          "output_type": "stream",
          "text": [
            "Using TensorFlow backend.\n"
          ],
          "name": "stderr"
        },
        {
          "output_type": "stream",
          "text": [
            "Downloading data from https://s3.amazonaws.com/text-datasets/imdb.npz\n",
            "17465344/17464789 [==============================] - 0s 0us/step\n"
          ],
          "name": "stdout"
        }
      ]
    },
    {
      "cell_type": "markdown",
      "metadata": {
        "id": "3uHBV8cae2Sl",
        "colab_type": "text"
      },
      "source": [
        "Creating a reverse dictionary look to see what the vectors orginally looked like to get a sense of the data."
      ]
    },
    {
      "cell_type": "code",
      "metadata": {
        "id": "gbGkaddAfDYU",
        "colab_type": "code",
        "outputId": "bae0bf91-106d-4ea9-ae78-11e888180acf",
        "colab": {
          "base_uri": "https://localhost:8080/",
          "height": 51
        }
      },
      "source": [
        "# Decoding encoded vector\n",
        "word_index = imdb.get_word_index();\n",
        "reverse_word_index = dict(\n",
        "  [(value, key) for (key, value) in word_index.items()]\n",
        ")\n",
        "# Shift the index by 3 because the first 3 places are reserved for special characters\n",
        "decoded_review = ' '.join(\n",
        "  [reverse_word_index.get(i-3, '?') for i in train_data[0]]\n",
        ")\n",
        "\n",
        "#print ('Decoded review of above: ', decoded_review)\n",
        "#print ('Label: ', train_labels[0])"
      ],
      "execution_count": 3,
      "outputs": [
        {
          "output_type": "stream",
          "text": [
            "Downloading data from https://s3.amazonaws.com/text-datasets/imdb_word_index.json\n",
            "1646592/1641221 [==============================] - 0s 0us/step\n"
          ],
          "name": "stdout"
        }
      ]
    },
    {
      "cell_type": "markdown",
      "metadata": {
        "id": "g2FYht-xfT7Y",
        "colab_type": "text"
      },
      "source": [
        " Along the dimension axis all integers (words) contained in the sequence will become 1s. This means we lost all information contained in the ordering of the words, which is obvisously very important, but the NN will still learn having certain words in a sentence is good and other are bad. This allows our first layer of the NN to be a dense layer capable of handling floating point vector data.\n",
        "\n",
        "### eg:\n",
        " `(3, [2, 34, 9934, 62, 88])`indicates that row 2 in the matrix will have indices 2, 34, 9934, 62, 88 as 1.\n",
        " and everything else in the dimension axis will be 0.\n",
        " "
      ]
    },
    {
      "cell_type": "code",
      "metadata": {
        "id": "u_1815uVgEk2",
        "colab_type": "code",
        "colab": {}
      },
      "source": [
        "def vectorize_sequences(sequences, dimension=10000):\n",
        "  results = np.zeros((len(sequences), dimension))\n",
        "  for i, sequence in enumerate(sequences):\n",
        "    results[i, sequence] = 1.\n",
        "  return results\n",
        "\n",
        "x_train = vectorize_sequences(train_data)\n",
        "x_test = vectorize_sequences(test_data)\n",
        "\n",
        "y_train = np.asarray(train_labels).astype('float32')\n",
        "y_test = np.asarray(test_labels).astype('float32')\n",
        "\n",
        "#print ('Train example: ', x_train[0])\n",
        "#print ('Train label: ', y_train[0])"
      ],
      "execution_count": 0,
      "outputs": []
    },
    {
      "cell_type": "markdown",
      "metadata": {
        "id": "yO0-falQLCtJ",
        "colab_type": "text"
      },
      "source": [
        "Input data is vectors, and the labels are scalars, a type of network that performs well on such a problem is a simple stack of fully connected layers with RELU activations. Can be thought of as `output = relu(dot(W, input) + b)`. `W` has the dimensionality `(input_width_and_height, given_depth_dimension)`, since its a fully connected layer (DENSE) it's width and height match the input data. Where as with convolutional layers the width or height (can't remember which) must match the input data where as the other can be decided.\n",
        "\n",
        "\"You can intuitively understand the dimensionality of your representation space as 'how much freedom you're allowing the network to have when learning internal representations'\"\n",
        "\n",
        "If you dimensionality is to too high, too much freedom, and you don't have enough data the neural net will end up memorizing the training data and will not be able to generalize.\n",
        "\n",
        "* The key architectural decision of dense layers is to decide how many layers to use and their dimensionality.\n",
        "* Using relu in intermediate layers. RELU is preferred in intermediate layers because in it prevents backprop degradation or explosion, but this would not be a concern in such a small NN.\n",
        "* The final layer will use a sigmoid activation to output a probability of a review being positive. Sigmoid activations squash values into the 0-1 interval.\n",
        "\n",
        "\n",
        "\n",
        "\n"
      ]
    },
    {
      "cell_type": "code",
      "metadata": {
        "id": "6VnyaiJrNunn",
        "colab_type": "code",
        "colab": {
          "base_uri": "https://localhost:8080/",
          "height": 88
        },
        "outputId": "aa7dbad1-6f3a-4be4-8165-4f67551cf325"
      },
      "source": [
        "from keras import models\n",
        "from keras import layers\n",
        "\n",
        "model = models.Sequential()\n",
        "model.add(layers.Dense(16, activation='relu', input_shape=(10000,))) # one hot encoded vector of 10k\n",
        "model.add(layers.Dense(16, activation='relu')) #infers input dimension from previous layer\n",
        "model.add(layers.Dense(1, activation='sigmoid'))"
      ],
      "execution_count": 5,
      "outputs": [
        {
          "output_type": "stream",
          "text": [
            "WARNING:tensorflow:From /usr/local/lib/python3.6/dist-packages/tensorflow/python/framework/op_def_library.py:263: colocate_with (from tensorflow.python.framework.ops) is deprecated and will be removed in a future version.\n",
            "Instructions for updating:\n",
            "Colocations handled automatically by placer.\n"
          ],
          "name": "stdout"
        }
      ]
    },
    {
      "cell_type": "markdown",
      "metadata": {
        "id": "G5Wk9Vc9Pk1y",
        "colab_type": "text"
      },
      "source": [
        " Activations allow neural nets to learn non-linear transformations, otherwise would just be layers of linear transformations which could only represent linear transformations. Obvisously deep linear transformations would provide not benefit, eg. the hypothesis space of such a layer would be the set of all possible linear transformtions of the input data into 16 dimensional space. (Note: expound on this)"
      ]
    },
    {
      "cell_type": "code",
      "metadata": {
        "id": "gmN2QvlmQEiI",
        "colab_type": "code",
        "colab": {}
      },
      "source": [
        "from keras import losses\n",
        "from keras import metrics\n",
        "from keras import optimizers\n",
        "\n",
        "# Packaged options for model\n",
        "model.compile(optimizer='rmsprop',\n",
        "             loss='binary_crossentropy',\n",
        "             metrics=['acc'])\n",
        "\n",
        "# Further customization of loss and optimizers\n",
        "#model.compile(optimizer=optimizers.RMSprop(lr=0.001),\n",
        "#             loss=losses.binary_crossentropy,\n",
        "#             metrics=[metrics.binary_accuracy])"
      ],
      "execution_count": 0,
      "outputs": []
    },
    {
      "cell_type": "markdown",
      "metadata": {
        "id": "IDZzv81lQWPc",
        "colab_type": "text"
      },
      "source": [
        "Could use mean squared error as the loss, but since dealing with probability as the output it best to use cross entropy which measures the difference between probability distributions. \n",
        "The optimizer describes the type of backpropagation method you want use. The different types of optimizers have different approachs such as using momentum, learning rate, learning rate decay, etc. [This](http://ruder.io/optimizing-gradient-descent/) provides a great overview of different optimizers. "
      ]
    },
    {
      "cell_type": "code",
      "metadata": {
        "id": "XBOaLoVVs7Ot",
        "colab_type": "code",
        "colab": {}
      },
      "source": [
        "x_val = x_train[:10000]\n",
        "partial_x_train = x_train[10000:]\n",
        "y_val = y_train[:10000]\n",
        "partial_y_train = y_train[10000:]"
      ],
      "execution_count": 0,
      "outputs": []
    },
    {
      "cell_type": "markdown",
      "metadata": {
        "id": "RqULcBirtDWV",
        "colab_type": "text"
      },
      "source": [
        "Split data into training and validation (usually 80/20)."
      ]
    },
    {
      "cell_type": "code",
      "metadata": {
        "id": "c29syMGzthSB",
        "colab_type": "code",
        "colab": {
          "base_uri": "https://localhost:8080/",
          "height": 714
        },
        "outputId": "6bc80fbc-2624-481c-d04e-e77872966cf1"
      },
      "source": [
        "history = model.fit(partial_x_train,\n",
        "                     partial_y_train,\n",
        "                     epochs=20,\n",
        "                     batch_size=512,\n",
        "                     validation_data=(x_val, y_val))"
      ],
      "execution_count": 15,
      "outputs": [
        {
          "output_type": "stream",
          "text": [
            "Train on 15000 samples, validate on 10000 samples\n",
            "Epoch 1/20\n",
            "15000/15000 [==============================] - 1s 95us/step - loss: 0.0016 - acc: 0.9999 - val_loss: 0.8038 - val_acc: 0.8638\n",
            "Epoch 2/20\n",
            "15000/15000 [==============================] - 1s 93us/step - loss: 0.0043 - acc: 0.9991 - val_loss: 0.8372 - val_acc: 0.8621\n",
            "Epoch 3/20\n",
            "15000/15000 [==============================] - 1s 93us/step - loss: 0.0010 - acc: 0.9999 - val_loss: 0.8549 - val_acc: 0.8616\n",
            "Epoch 4/20\n",
            "15000/15000 [==============================] - 1s 94us/step - loss: 0.0036 - acc: 0.9989 - val_loss: 0.8891 - val_acc: 0.8603\n",
            "Epoch 5/20\n",
            "15000/15000 [==============================] - 1s 93us/step - loss: 6.6727e-04 - acc: 0.9999 - val_loss: 0.9025 - val_acc: 0.8608\n",
            "Epoch 6/20\n",
            "15000/15000 [==============================] - 1s 92us/step - loss: 5.5054e-04 - acc: 0.9999 - val_loss: 0.9696 - val_acc: 0.8561\n",
            "Epoch 7/20\n",
            "15000/15000 [==============================] - 1s 92us/step - loss: 0.0037 - acc: 0.9989 - val_loss: 0.9799 - val_acc: 0.8589\n",
            "Epoch 8/20\n",
            "15000/15000 [==============================] - 1s 92us/step - loss: 3.3339e-04 - acc: 1.0000 - val_loss: 0.9861 - val_acc: 0.8597\n",
            "Epoch 9/20\n",
            "15000/15000 [==============================] - 1s 92us/step - loss: 2.6512e-04 - acc: 1.0000 - val_loss: 1.0049 - val_acc: 0.8596\n",
            "Epoch 10/20\n",
            "15000/15000 [==============================] - 1s 92us/step - loss: 0.0053 - acc: 0.9985 - val_loss: 1.0618 - val_acc: 0.8560\n",
            "Epoch 11/20\n",
            "15000/15000 [==============================] - 1s 95us/step - loss: 1.8121e-04 - acc: 1.0000 - val_loss: 1.0535 - val_acc: 0.8578\n",
            "Epoch 12/20\n",
            "15000/15000 [==============================] - 1s 94us/step - loss: 1.3690e-04 - acc: 1.0000 - val_loss: 1.0639 - val_acc: 0.8565\n",
            "Epoch 13/20\n",
            "15000/15000 [==============================] - 1s 95us/step - loss: 1.1442e-04 - acc: 1.0000 - val_loss: 1.0864 - val_acc: 0.8573\n",
            "Epoch 14/20\n",
            "15000/15000 [==============================] - 1s 93us/step - loss: 0.0036 - acc: 0.9992 - val_loss: 1.1185 - val_acc: 0.8574\n",
            "Epoch 15/20\n",
            "15000/15000 [==============================] - 1s 93us/step - loss: 6.4729e-05 - acc: 1.0000 - val_loss: 1.1243 - val_acc: 0.8573\n",
            "Epoch 16/20\n",
            "15000/15000 [==============================] - 1s 94us/step - loss: 5.7006e-05 - acc: 1.0000 - val_loss: 1.1352 - val_acc: 0.8566\n",
            "Epoch 17/20\n",
            "15000/15000 [==============================] - 1s 93us/step - loss: 4.8493e-05 - acc: 1.0000 - val_loss: 1.1569 - val_acc: 0.8559\n",
            "Epoch 18/20\n",
            "15000/15000 [==============================] - 1s 94us/step - loss: 0.0032 - acc: 0.9993 - val_loss: 1.1846 - val_acc: 0.8558\n",
            "Epoch 19/20\n",
            "15000/15000 [==============================] - 1s 93us/step - loss: 3.5069e-05 - acc: 1.0000 - val_loss: 1.1887 - val_acc: 0.8565\n",
            "Epoch 20/20\n",
            "15000/15000 [==============================] - 1s 94us/step - loss: 2.7720e-05 - acc: 1.0000 - val_loss: 1.1955 - val_acc: 0.8565\n"
          ],
          "name": "stdout"
        }
      ]
    },
    {
      "cell_type": "code",
      "metadata": {
        "id": "ZN8FPaSWub9V",
        "colab_type": "code",
        "colab": {
          "base_uri": "https://localhost:8080/",
          "height": 295
        },
        "outputId": "3400ea54-53af-47dd-98b8-01c6d94cef01"
      },
      "source": [
        "import matplotlib.pyplot as plt\n",
        "\n",
        "history_dict = history.history\n",
        "loss_values = history_dict['loss']\n",
        "val_loss_values = history_dict['val_loss']\n",
        "\n",
        "epochs = range(1, len(history_dict['acc']) + 1)\n",
        "\n",
        "plt.plot(epochs, loss_values, 'bo', label='Training loss')\n",
        "plt.plot(epochs, val_loss_values, 'b', label='Validation loss')\n",
        "plt.title('Training and validation loss')\n",
        "plt.xlabel('Epochs')\n",
        "plt.ylabel('Loss')\n",
        "plt.legend()\n",
        "\n",
        "plt.show()"
      ],
      "execution_count": 16,
      "outputs": [
        {
          "output_type": "display_data",
          "data": {
            "image/png": "[encoded data removed]",
            "text/plain": [
              "<Figure size 432x288 with 1 Axes>"
            ]
          },
          "metadata": {
            "tags": []
          }
        }
      ]
    },
    {
      "cell_type": "markdown",
      "metadata": {
        "id": "OVkUDMBRxERD",
        "colab_type": "text"
      },
      "source": [
        "Slowly begin to overfit the training data, decreasing the generalizability of the model."
      ]
    },
    {
      "cell_type": "code",
      "metadata": {
        "id": "8Cmfr5BkxMcY",
        "colab_type": "code",
        "colab": {
          "base_uri": "https://localhost:8080/",
          "height": 295
        },
        "outputId": "d5172ed1-faf2-4a6a-898c-c5f56976b4f1"
      },
      "source": [
        "acc_values = history_dict['acc']\n",
        "val_acc_values = history_dict['val_acc']\n",
        "\n",
        "plt.plot(epochs, acc_values, 'bo', label='Training acc')\n",
        "plt.plot(epochs, val_acc_values, 'b', label='Validation acc')\n",
        "plt.title('Training and validation accuracy')\n",
        "plt.xlabel('Epochs')\n",
        "plt.ylabel('accuracy')\n",
        "plt.legend()\n",
        "\n",
        "plt.show()"
      ],
      "execution_count": 17,
      "outputs": [
        {
          "output_type": "display_data",
          "data": {
            "image/png": "[encoded data removed]",
            "text/plain": [
              "<Figure size 432x288 with 1 Axes>"
            ]
          },
          "metadata": {
            "tags": []
          }
        }
      ]
    },
    {
      "cell_type": "markdown",
      "metadata": {
        "id": "yraH-BmmyhQ_",
        "colab_type": "text"
      },
      "source": [
        "Validation accuracy (generalization accuracy) peack around 2.5, should stop before 2.5 to maximize accuracy on unseen data."
      ]
    },
    {
      "cell_type": "code",
      "metadata": {
        "id": "FDcWqS4GzTdC",
        "colab_type": "code",
        "colab": {
          "base_uri": "https://localhost:8080/",
          "height": 136
        },
        "outputId": "ec3f40c1-cca8-4175-d0c6-7d9940749d77"
      },
      "source": [
        "model.predict(x_test)"
      ],
      "execution_count": 18,
      "outputs": [
        {
          "output_type": "execute_result",
          "data": {
            "text/plain": [
              "array([[7.1823597e-06],\n",
              "       [1.0000000e+00],\n",
              "       [9.7966099e-01],\n",
              "       ...,\n",
              "       [5.0365925e-06],\n",
              "       [6.4969063e-05],\n",
              "       [8.2632625e-01]], dtype=float32)"
            ]
          },
          "metadata": {
            "tags": []
          },
          "execution_count": 18
        }
      ]
    }
  ]
}