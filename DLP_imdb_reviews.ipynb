{
  "nbformat": 4,
  "nbformat_minor": 0,
  "metadata": {
    "colab": {
      "name": "DLP-imdb_reviews.ipynb",
      "version": "0.3.2",
      "provenance": []
    },
    "kernelspec": {
      "name": "python3",
      "display_name": "Python 3"
    }
  },
  "cells": [
    {
      "cell_type": "markdown",
      "metadata": {
        "id": "T3dHPR2UFps3",
        "colab_type": "text"
      },
      "source": [
        "Use the IMDB dataset packaged with Keras. It has already been labelled, where each word has been turned into an integer. We need to modify `np.load` to set `allow_pickle=True` otherwise we can't load the data. When loading the imdb data we use `num_words=10000` so that we only get the 10k most frequently used words. Although we lose information to train the neural net it allows our data to remain tractable."
      ]
    },
    {
      "cell_type": "code",
      "metadata": {
        "id": "SWtqNcNcGJmu",
        "colab_type": "code",
        "outputId": "4cc96460-3508-4a37-9ad9-62a7ea2dca26",
        "colab": {
          "base_uri": "https://localhost:8080/",
          "height": 71
        }
      },
      "source": [
        "import numpy as np\n",
        "from keras.datasets import imdb\n",
        "\n",
        "# Set allow_pickle to True since new version defaults to False\n",
        "old = np.load\n",
        "np.load = lambda *a,**k: old(*a, allow_pickle=True, **k)\n",
        "\n",
        "# Keep only 10k most commonly used words, rest discarded, to keep vectors of tractable size\n",
        "(train_data, train_labels), (test_data, test_labels) = imdb.load_data(num_words=10000)\n",
        "\n",
        "print ('Training Data: ', len(train_data), 'Testing Data: ', len(test_data))\n",
        "print ('Training Data Example: ', train_data[3], ' Label: ', test_labels[3])\n",
        "\n",
        "np.load = old\n",
        "del(old)"
      ],
      "execution_count": 2,
      "outputs": [
        {
          "output_type": "stream",
          "text": [
            "Training Data:  25000 Testing Data:  25000\n",
            "Training Data Example:  [1, 4, 2, 2, 33, 2804, 4, 2040, 432, 111, 153, 103, 4, 1494, 13, 70, 131, 67, 11, 61, 2, 744, 35, 3715, 761, 61, 5766, 452, 9214, 4, 985, 7, 2, 59, 166, 4, 105, 216, 1239, 41, 1797, 9, 15, 7, 35, 744, 2413, 31, 8, 4, 687, 23, 4, 2, 7339, 6, 3693, 42, 38, 39, 121, 59, 456, 10, 10, 7, 265, 12, 575, 111, 153, 159, 59, 16, 1447, 21, 25, 586, 482, 39, 4, 96, 59, 716, 12, 4, 172, 65, 9, 579, 11, 6004, 4, 1615, 5, 2, 7, 5168, 17, 13, 7064, 12, 19, 6, 464, 31, 314, 11, 2, 6, 719, 605, 11, 8, 202, 27, 310, 4, 3772, 3501, 8, 2722, 58, 10, 10, 537, 2116, 180, 40, 14, 413, 173, 7, 263, 112, 37, 152, 377, 4, 537, 263, 846, 579, 178, 54, 75, 71, 476, 36, 413, 263, 2504, 182, 5, 17, 75, 2306, 922, 36, 279, 131, 2895, 17, 2867, 42, 17, 35, 921, 2, 192, 5, 1219, 3890, 19, 2, 217, 4122, 1710, 537, 2, 1236, 5, 736, 10, 10, 61, 403, 9, 2, 40, 61, 4494, 5, 27, 4494, 159, 90, 263, 2311, 4319, 309, 8, 178, 5, 82, 4319, 4, 65, 15, 9225, 145, 143, 5122, 12, 7039, 537, 746, 537, 537, 15, 7979, 4, 2, 594, 7, 5168, 94, 9096, 3987, 2, 11, 2, 4, 538, 7, 1795, 246, 2, 9, 2, 11, 635, 14, 9, 51, 408, 12, 94, 318, 1382, 12, 47, 6, 2683, 936, 5, 6307, 2, 19, 49, 7, 4, 1885, 2, 1118, 25, 80, 126, 842, 10, 10, 2, 2, 4726, 27, 4494, 11, 1550, 3633, 159, 27, 341, 29, 2733, 19, 4185, 173, 7, 90, 2, 8, 30, 11, 4, 1784, 86, 1117, 8, 3261, 46, 11, 2, 21, 29, 9, 2841, 23, 4, 1010, 2, 793, 6, 2, 1386, 1830, 10, 10, 246, 50, 9, 6, 2750, 1944, 746, 90, 29, 2, 8, 124, 4, 882, 4, 882, 496, 27, 2, 2213, 537, 121, 127, 1219, 130, 5, 29, 494, 8, 124, 4, 882, 496, 4, 341, 7, 27, 846, 10, 10, 29, 9, 1906, 8, 97, 6, 236, 2, 1311, 8, 4, 2, 7, 31, 7, 2, 91, 2, 3987, 70, 4, 882, 30, 579, 42, 9, 12, 32, 11, 537, 10, 10, 11, 14, 65, 44, 537, 75, 2, 1775, 3353, 2, 1846, 4, 2, 7, 154, 5, 4, 518, 53, 2, 2, 7, 3211, 882, 11, 399, 38, 75, 257, 3807, 19, 2, 17, 29, 456, 4, 65, 7, 27, 205, 113, 10, 10, 2, 4, 2, 2, 9, 242, 4, 91, 1202, 2, 5, 2070, 307, 22, 7, 5168, 126, 93, 40, 2, 13, 188, 1076, 3222, 19, 4, 2, 7, 2348, 537, 23, 53, 537, 21, 82, 40, 2, 13, 2, 14, 280, 13, 219, 4, 2, 431, 758, 859, 4, 953, 1052, 2, 7, 5991, 5, 94, 40, 25, 238, 60, 2, 4, 2, 804, 2, 7, 4, 9941, 132, 8, 67, 6, 22, 15, 9, 283, 8, 5168, 14, 31, 9, 242, 955, 48, 25, 279, 2, 23, 12, 1685, 195, 25, 238, 60, 796, 2, 4, 671, 7, 2804, 5, 4, 559, 154, 888, 7, 726, 50, 26, 49, 7008, 15, 566, 30, 579, 21, 64, 2574]  Label:  0\n"
          ],
          "name": "stdout"
        }
      ]
    },
    {
      "cell_type": "markdown",
      "metadata": {
        "id": "3uHBV8cae2Sl",
        "colab_type": "text"
      },
      "source": [
        "Creating a reverse dictionary look to see what the vectors orginally looked like to get a sense of the data."
      ]
    },
    {
      "cell_type": "code",
      "metadata": {
        "id": "gbGkaddAfDYU",
        "colab_type": "code",
        "colab": {
          "base_uri": "https://localhost:8080/",
          "height": 71
        },
        "outputId": "135de6bb-29fa-43fd-8632-67c5997f78a9"
      },
      "source": [
        "# Decoding encoded vector\n",
        "word_index = imdb.get_word_index();\n",
        "reverse_word_index = dict(\n",
        "  [(value, key) for (key, value) in word_index.items()]\n",
        ")\n",
        "# Shift the index by 3 because the first 3 places are reserved for special characters\n",
        "decoded_review = ' '.join(\n",
        "  [reverse_word_index.get(i-3, '?') for i in train_data[0]]\n",
        ")\n",
        "\n",
        "print ('Decoded review of above: ', decoded_review)\n",
        "print ('Label: ', train_labels[0])"
      ],
      "execution_count": 4,
      "outputs": [
        {
          "output_type": "stream",
          "text": [
            "Decoded review of above:  ? this film was just brilliant casting location scenery story direction everyone's really suited the part they played and you could just imagine being there robert ? is an amazing actor and now the same being director ? father came from the same scottish island as myself so i loved the fact there was a real connection with this film the witty remarks throughout the film were great it was just brilliant so much that i bought the film as soon as it was released for ? and would recommend it to everyone to watch and the fly fishing was amazing really cried at the end it was so sad and you know what they say if you cry at a film it must have been good and this definitely was also ? to the two little boy's that played the ? of norman and paul they were just brilliant children are often left out of the ? list i think because the stars that play them all grown up are such a big profile for the whole film but these children are amazing and should be praised for what they have done don't you think the whole story was so lovely because it was true and was someone's life after all that was shared with us all\n",
            "Label:  1\n"
          ],
          "name": "stdout"
        }
      ]
    },
    {
      "cell_type": "markdown",
      "metadata": {
        "id": "g2FYht-xfT7Y",
        "colab_type": "text"
      },
      "source": [
        " Along the dimension axis all integers (words) contained in the sequence will become 1s. This means we lost all information contained in the ordering of the words, which is obvisously very important, but the NN will still learn having certain words in a sentence is good and other are bad. This allows our first layer of the NN to be a dense layer capable of handling floating point vector data.\n",
        "\n",
        "### eg:\n",
        " `(3, [2, 34, 9934, 62, 88])`indicates that row 2 in the matrix will have indices 2, 34, 9934, 62, 88 as 1.\n",
        " and everything else in the dimension axis will be 0.\n",
        " "
      ]
    },
    {
      "cell_type": "code",
      "metadata": {
        "id": "u_1815uVgEk2",
        "colab_type": "code",
        "colab": {
          "base_uri": "https://localhost:8080/",
          "height": 51
        },
        "outputId": "82315ddd-f561-4751-a75c-b12fdbf78152"
      },
      "source": [
        "def vectorize_sequences(sequences, dimension=10000):\n",
        "  results = np.zeros((len(sequences), dimension))\n",
        "  for i, sequence in enumerate(sequences):\n",
        "    results[i, sequence] = 1.\n",
        "  return results\n",
        "\n",
        "x_train = vectorize_sequences(train_data)\n",
        "x_test = vectorize_sequences(test_data)\n",
        "\n",
        "y_train = np.asarray(train_labels).astype('float32')\n",
        "y_test = np.asarray(test_labels).astype('float32')\n",
        "\n",
        "print ('Train example: ', x_train[0])\n",
        "print ('Train label: ', y_train[0])"
      ],
      "execution_count": 6,
      "outputs": [
        {
          "output_type": "stream",
          "text": [
            "Train example:  [0. 1. 1. ... 0. 0. 0.]\n",
            "Train label:  1.0\n"
          ],
          "name": "stdout"
        }
      ]
    }
  ]
}